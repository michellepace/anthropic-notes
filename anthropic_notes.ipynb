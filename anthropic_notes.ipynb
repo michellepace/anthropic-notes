{
  "nbformat": 4,
  "nbformat_minor": 0,
  "metadata": {
    "colab": {
      "provenance": [],
      "authorship_tag": "ABX9TyPyvsFqGAYTZdALq4JQrSZQ",
      "include_colab_link": true
    },
    "kernelspec": {
      "name": "python3",
      "display_name": "Python 3"
    },
    "language_info": {
      "name": "python"
    }
  },
  "cells": [
    {
      "cell_type": "markdown",
      "metadata": {
        "id": "view-in-github",
        "colab_type": "text"
      },
      "source": [
        "<a href=\"https://colab.research.google.com/github/michellepace/anthropic_notes/blob/main/anthropic_notes.ipynb\" target=\"_parent\"><img src=\"https://colab.research.google.com/assets/colab-badge.svg\" alt=\"Open In Colab\"/></a>"
      ]
    },
    {
      "cell_type": "markdown",
      "source": [
        "<font size=\"6\">\n",
        "<b>Anthropic GitHub Courses — Notes</b>\n",
        "</font></div>\n",
        "\n",
        "<br>\n",
        "\n",
        "<br>\n",
        "\n",
        "<b>A Quick Reference.</b>\n",
        "</div>\n",
        "\n",
        "---\n",
        "\n",
        "Created from this excellent resource <a href=\"https://github.com/anthropics/courses\" target=\"_blank\">github.com/anthropics/courses</a>. Includes in short form what stood out as useful to refer back to, later.\n",
        "\n",
        "<br>**Contents**\n",
        "<ol>\n",
        "  <li><a href=\"#id-initialise\">Initialise</a></li>\n",
        "  <li><a href=\"#id-style\">Style — look & feel</a></li>\n",
        "  <li><a href=\"#id-font\">Font — Family & Scale</a></li>\n",
        "  <li><a href=\"#id-colour\">Colour — Types, Steps & Gradients</a></li>\n",
        "  <li><a href=\"#id-together\">All Together</a></li>\n",
        "  <li><a href=\"#id-appendix\">Appendix</a>\n",
        "  </li>\n",
        "</ol>"
      ],
      "metadata": {
        "id": "TkedSy3xxn1P"
      }
    },
    {
      "cell_type": "code",
      "execution_count": null,
      "metadata": {
        "id": "MGJkWfJYxMyp"
      },
      "outputs": [],
      "source": []
    }
  ]
}